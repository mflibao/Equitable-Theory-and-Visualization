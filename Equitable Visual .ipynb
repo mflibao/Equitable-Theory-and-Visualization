{
 "cells": [
  {
   "cell_type": "code",
   "execution_count": 1,
   "id": "7c90cef0-e9b1-4742-884d-993fb3709ee7",
   "metadata": {},
   "outputs": [],
   "source": [
    "# %% 0. SET-UP  ──────────────────────────────────────────────────────────────\n",
    "# Widget backend (allows live zoom & re-draw);  use  %matplotlib inline\n",
    "# if ipympl is not available.\n",
    "%matplotlib widget          \n",
    "\n",
    "import matplotlib, matplotlib.pyplot as plt\n",
    "matplotlib.rcParams['animation.html']      = 'jshtml'\n",
    "matplotlib.rcParams['animation.embed_limit'] = 100  # MB\n",
    "\n",
    "import networkx as nx, itertools, time, threading\n",
    "import ipywidgets as w\n",
    "from matplotlib.animation import FuncAnimation, FFMpegWriter, PillowWriter\n",
    "from IPython.display import HTML, display, clear_output\n"
   ]
  },
  {
   "cell_type": "code",
   "execution_count": 2,
   "id": "b230e158-a509-4587-94ed-6ed17154a8df",
   "metadata": {},
   "outputs": [],
   "source": [
    "# %% 1. GRAPH & COLOURING HELPERS ───────────────────────────────────────────\n",
    "def build_n_pan(n: int) -> nx.Graph:\n",
    "    \"\"\"Return the n-pan graph (cycle C_n + one pendant).\"\"\"\n",
    "    G = nx.cycle_graph(range(1, n + 1))\n",
    "    G.add_node(0); G.add_edge(0, 1)\n",
    "    return G\n",
    "\n",
    "def base_colouring(n: int) -> dict[int, int]:\n",
    "    \"\"\"Equitable χ₌-colouring of C⁺¹_n (2 colours if n even, 3 if n odd).\"\"\"\n",
    "    col = {}\n",
    "    if n % 2 == 0:                   # even → 2-colour\n",
    "        for i in range(1, n + 1): col[i] = 1 if i % 2 else 2\n",
    "        col[0] = 2\n",
    "    else:                            # odd → 3-colour with mod-3 pattern\n",
    "        r = n % 3\n",
    "        if r == 0:\n",
    "            for i in range(1, n + 1): col[i] = (i-1) % 3 + 1\n",
    "            col[0] = 3\n",
    "        elif r == 1:\n",
    "            for i in range(1, n):     col[i] = (i-1) % 3 + 1\n",
    "            col[n], col[0] = 2, 3\n",
    "        else:  # r == 2\n",
    "            for i in range(1, n-1):   col[i] = (i-1) % 3 + 1\n",
    "            col[n-1], col[n], col[0] = 1, 2, 3\n",
    "    return col                        # values are 1‒k\n",
    "\n",
    "def coloured_floor(n: int, m: int):\n",
    "    \"\"\"Return (G×P_m, colour_map dict, k) with layer-shift colouring.\"\"\"\n",
    "    base   = base_colouring(n)\n",
    "    k      = max(base.values())\n",
    "    GH     = nx.cartesian_product(build_n_pan(n), nx.path_graph(range(1, m + 1)))\n",
    "    colour = {(u, v): ((base[u] + v-1) % k or k) for u, v in GH.nodes()}\n",
    "    return GH, colour, k\n"
   ]
  },
  {
   "cell_type": "code",
   "execution_count": 3,
   "id": "d5c2d390-ab20-46ca-932e-ad40cf0dcaa2",
   "metadata": {},
   "outputs": [
    {
     "data": {
      "application/vnd.jupyter.widget-view+json": {
       "model_id": "973a1ae0ea244d739e844e11e4fbe8bb",
       "version_major": 2,
       "version_minor": 0
      },
      "text/plain": [
       "VBox(children=(IntSlider(value=5, description='n', max=15, min=3), IntSlider(value=4, description='m', max=12,…"
      ]
     },
     "metadata": {},
     "output_type": "display_data"
    }
   ],
   "source": [
    "# %% 2. STATIC PREVIEW (sliders + Run button) ───────────────────────────────\n",
    "n_slider = w.IntSlider(value=5, min=3,  max=15, description='n')\n",
    "m_slider = w.IntSlider(value=4, min=2,  max=12, description='m')\n",
    "run_btn  = w.Button(description='Show Floor Graph')\n",
    "preview  = w.Output()\n",
    "\n",
    "def _preview(_):\n",
    "    with preview:\n",
    "        clear_output(wait=True)\n",
    "        n, m               = int(n_slider.value), int(m_slider.value)\n",
    "        G, cmap, k         = coloured_floor(n, m)\n",
    "        colours            = ['grey', 'red', 'green', 'blue'][:k+1]\n",
    "        fig, ax            = plt.subplots(figsize=(6, 5))\n",
    "        nx.draw(G, nx.spring_layout(G, seed=42),\n",
    "                node_color=[colours[c] for c in cmap.values()],\n",
    "                with_labels=False, ax=ax)\n",
    "        ax.set_title(f\"Full colouring, n={n}, m={m}, k={k}\")\n",
    "        plt.show()\n",
    "\n",
    "run_btn.on_click(_preview)\n",
    "display(w.VBox([n_slider, m_slider, run_btn, preview]))\n"
   ]
  },
  {
   "cell_type": "code",
   "execution_count": 4,
   "id": "7d688059-8845-48b5-981a-60dc74055364",
   "metadata": {},
   "outputs": [
    {
     "data": {
      "application/vnd.jupyter.widget-view+json": {
       "model_id": "b307605b023347a08ac2eab272a808a3",
       "version_major": 2,
       "version_minor": 0
      },
      "text/plain": [
       "VBox(children=(Button(description='Run Animation', style=ButtonStyle()), Button(button_style='info', descripti…"
      ]
     },
     "metadata": {},
     "output_type": "display_data"
    }
   ],
   "source": [
    "# %% 4. CLASSROOM ANIMATION (one colour per frame) ─────────────────────────\n",
    "def classroom_anim(n: int, m: int) -> FuncAnimation:\n",
    "    G, cmap, k   = coloured_floor(n, m)\n",
    "    pos          = nx.spring_layout(G, seed=42)\n",
    "    colours      = ['lightgrey', 'red', 'green', 'blue']          # up to k=3\n",
    "    frames       = list(range(1, k + 1)) + [k + 1]               # last = all\n",
    "    fig, ax      = plt.subplots(figsize=(6, 5))\n",
    "\n",
    "    def draw(frame):\n",
    "        ax.clear()\n",
    "        if frame <= k:\n",
    "            visible = {node for node, c in cmap.items() if c == frame}\n",
    "            node_c  = [colours[c] if node in visible else colours[0] for node, c in cmap.items()]\n",
    "            title   = f\"Step {frame}: show colour {frame}\"\n",
    "        else:                                                   # final frame\n",
    "            node_c  = [colours[c] for c in cmap.values()]\n",
    "            title   = \"Step final: all colours\"\n",
    "        nx.draw(G, pos, node_color=node_c, with_labels=False, ax=ax)\n",
    "        ax.set_title(title)\n",
    "\n",
    "    return FuncAnimation(fig, draw, frames=frames, interval=800, repeat=False)\n",
    "\n",
    "# --- small helper widget ---------------------------------------------------\n",
    "save_btn  = w.Button(description='Save MP4', button_style='info')\n",
    "anim_out  = w.Output()\n",
    "\n",
    "def _run_anim(_):\n",
    "    with anim_out:\n",
    "        clear_output()\n",
    "        ani = classroom_anim(int(n_slider.value), int(m_slider.value))\n",
    "        display(HTML(ani.to_jshtml()))\n",
    "        save_btn.ani = ani              # keep a reference for export\n",
    "\n",
    "def _save_mp4(_):\n",
    "    with anim_out:\n",
    "        if not hasattr(save_btn, 'ani'): print(\"Run the animation first.\"); return\n",
    "        n, m   = int(n_slider.value), int(m_slider.value)\n",
    "        fname  = f\"pan_path_n{n}_m{m}.mp4\"\n",
    "        try:\n",
    "            save_btn.ani.save(fname, writer=FFMpegWriter(fps=1, bitrate=1800))\n",
    "            print(\"✔ Saved MP4 →\", fname)\n",
    "        except Exception as e:\n",
    "            print(\"⚠ MP4 failed, saving GIF instead:\", e)\n",
    "            gif = fname.replace(\".mp4\", \".gif\")\n",
    "            save_btn.ani.save(gif, writer=PillowWriter(fps=1))\n",
    "            print(\"✓ Saved GIF →\", gif)\n",
    "\n",
    "run_anim_btn = w.Button(description='Run Animation')\n",
    "run_anim_btn.on_click(_run_anim)\n",
    "save_btn.on_click(_save_mp4)\n",
    "\n",
    "display(w.VBox([run_anim_btn, save_btn, anim_out]))\n"
   ]
  },
  {
   "cell_type": "code",
   "execution_count": null,
   "id": "f8392691-1453-4f03-b857-76093a824411",
   "metadata": {},
   "outputs": [],
   "source": []
  },
  {
   "cell_type": "code",
   "execution_count": null,
   "id": "e623c831-0345-4e8f-b9d2-304f89cec41a",
   "metadata": {},
   "outputs": [],
   "source": []
  }
 ],
 "metadata": {
  "kernelspec": {
   "display_name": "Python 3 (ipykernel)",
   "language": "python",
   "name": "python3"
  },
  "language_info": {
   "codemirror_mode": {
    "name": "ipython",
    "version": 3
   },
   "file_extension": ".py",
   "mimetype": "text/x-python",
   "name": "python",
   "nbconvert_exporter": "python",
   "pygments_lexer": "ipython3",
   "version": "3.12.10"
  }
 },
 "nbformat": 4,
 "nbformat_minor": 5
}
